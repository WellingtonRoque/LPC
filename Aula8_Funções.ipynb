{
  "cells": [
    {
      "cell_type": "markdown",
      "metadata": {
        "id": "view-in-github",
        "colab_type": "text"
      },
      "source": [
        "<a href=\"https://colab.research.google.com/github/WellingtonRoque/lpc/blob/main/Aula8_Fun%C3%A7%C3%B5es.ipynb\" target=\"_parent\"><img src=\"https://colab.research.google.com/assets/colab-badge.svg\" alt=\"Open In Colab\"/></a>"
      ]
    },
    {
      "cell_type": "markdown",
      "metadata": {
        "id": "sXRdwVrsmI9H"
      },
      "source": [
        "**1. Introdução às Funções**\n",
        "\n",
        "Uma função é um bloco de código que executa uma tarefa específica e pode ser reutilizada. Imagine-a como uma \"máquina\" que, ao ser acionada, realiza uma tarefa e entrega um resultado, ou realiza alguma ação.\n",
        "\n",
        "Usar funções é útil para organizar e modularizar o código, tornando-o mais claro e fácil de manter.\n",
        "\n",
        "**Exemplos do Mundo Real**\n",
        "\n",
        "Um exemplo seria uma calculadora. Cada operação (soma, subtração, multiplicação) pode ser considerada uma função, que recebe valores e retorna um resultado."
      ]
    },
    {
      "cell_type": "markdown",
      "metadata": {
        "id": "9_Pvcs_mmbX_"
      },
      "source": [
        "**2. Definindo e Chamando Funções**\n",
        "\n",
        "Sintaxe Básica de uma Função em Python\n",
        "\n",
        "Para definir uma função em Python, usamos a palavra-chave def, seguida do nome da função, parênteses e dois pontos.\n",
        "\n",
        "**Exemplo**\n",
        "\n",
        "Aqui, saudacao é o nome da função, e o código dentro dela (print(\"Olá, bem-vindo ao curso de Python!\")) será executado sempre que chamarmos a função.\n",
        "Chamando a Função:\n",
        "\n",
        "Para executar o código de uma função, basta chamá-la usando seu nome seguido de parênteses, como em saudacao().\n",
        "\n",
        "Ao chamar a função, o Python \"vai até\" o bloco de código que definimos e o executa."
      ]
    },
    {
      "cell_type": "code",
      "execution_count": 1,
      "metadata": {
        "id": "Yr495JU4min_"
      },
      "outputs": [],
      "source": [
        "def saudacao():\n",
        "    print(\"Olá, bem-vindo ao curso de Python!\")\n"
      ]
    },
    {
      "cell_type": "markdown",
      "metadata": {
        "id": "Dwmplshrm6Wv"
      },
      "source": [
        "**3. Parâmetros e Argumentos**\n",
        "\n",
        "**Definindo Parâmetros**\n",
        "\n",
        "Parâmetros são variáveis que definimos na função para receber valores. Eles são definidos dentro dos parênteses após o nome da função.\n",
        "\n",
        "**Exemplo:**\n",
        "\n",
        "Aqui, nome é o parâmetro, ou seja, a \"caixa\" onde colocamos o valor passado na chamada da função."
      ]
    },
    {
      "cell_type": "code",
      "execution_count": 4,
      "metadata": {
        "id": "AopR0chDm_zA"
      },
      "outputs": [],
      "source": [
        "def saudacao_usuario(nome):\n",
        "    print(f\"Olá, {nome}!\")\n"
      ]
    },
    {
      "cell_type": "markdown",
      "metadata": {
        "id": "YNjic_ARnaq_"
      },
      "source": [
        "**Passando Argumentos**\n",
        "\n",
        "Argumentos são os valores reais que passamos para a função no momento em que a chamamos.\n",
        "\n",
        "Exemplos:\n"
      ]
    },
    {
      "cell_type": "code",
      "source": [
        "saudacao_usuario(\"Roque\")  # \"Maria\" é o argumento passado para o parâmetro `nome`\n"
      ],
      "metadata": {
        "colab": {
          "base_uri": "https://localhost:8080/"
        },
        "id": "hzTrHAViVLPX",
        "outputId": "3cf73f99-0cb3-4237-e25e-33b4e8c40856"
      },
      "execution_count": 6,
      "outputs": [
        {
          "output_type": "stream",
          "name": "stdout",
          "text": [
            "Olá, Roque!\n"
          ]
        }
      ]
    },
    {
      "cell_type": "markdown",
      "source": [
        "**Múltiplos Parâmetros**\n",
        "\n",
        "Podemos definir funções que recebem vários parâmetros.\n",
        "\n",
        "Aqui, a função calculo_soma tem dois parâmetros, a e b, que precisam de dois argumentos no momento da chamada, como em calculo_soma(5, 3)."
      ],
      "metadata": {
        "id": "DCG6LYeXVWue"
      }
    },
    {
      "cell_type": "code",
      "execution_count": 9,
      "metadata": {
        "colab": {
          "base_uri": "https://localhost:8080/"
        },
        "id": "DDX6gg8vndQO",
        "outputId": "f5dae09c-0275-42e9-9cee-7157edb85c6a"
      },
      "outputs": [
        {
          "output_type": "execute_result",
          "data": {
            "text/plain": [
              "8"
            ]
          },
          "metadata": {},
          "execution_count": 9
        }
      ],
      "source": [
        "def calculo_soma(a, b):\n",
        "    return a + b\n",
        "\n",
        "\n",
        "calculo_soma(5, 3)"
      ]
    },
    {
      "cell_type": "markdown",
      "metadata": {
        "id": "dWDXLhFVnvhf"
      },
      "source": [
        "**4. Retornando Valores**\n",
        "\n",
        "**Usando o return**\n",
        "\n",
        "Muitas vezes, queremos que uma função \"devolva\" um valor para ser usado em outro lugar do código.\n",
        "\n",
        "Para isso, usamos a palavra-chave return.\n",
        "\n",
        "**return** encerra a execução da função e devolve o valor para onde a função foi chamada.\n",
        "\n",
        "A diferença entre uma função com return e uma sem return é que a primeira pode ser usada para fazer cálculos e atribuir o resultado a uma variável."
      ]
    },
    {
      "cell_type": "code",
      "execution_count": 12,
      "metadata": {
        "colab": {
          "base_uri": "https://localhost:8080/"
        },
        "id": "E6iMhRR5nyQ-",
        "outputId": "0fc7cc8a-eb27-4276-aa23-14284b0541f5"
      },
      "outputs": [
        {
          "output_type": "stream",
          "name": "stdout",
          "text": [
            "25\n"
          ]
        }
      ],
      "source": [
        "def quadrado(x):\n",
        "    return x * x\n",
        "\n",
        "print(quadrado(5))"
      ]
    },
    {
      "cell_type": "markdown",
      "source": [
        "**Exemplo 1: Função para Verificar Número Par**\n",
        "\n",
        "Uma função que verifica se um número é par e retorna True ou False.\n",
        "\n",
        "**Explicação:** A função eh_par usa o operador % (módulo) para verificar se o resto da divisão por 2 é zero, o que indica que o número é par."
      ],
      "metadata": {
        "id": "3FZO0RYJWlij"
      }
    },
    {
      "cell_type": "code",
      "source": [
        "def eh_par(numero):\n",
        "    return numero % 2 == 0\n",
        "\n",
        "# Chamando a função com um número\n",
        "resultado = eh_par(4)\n",
        "print(f\"O número 4 é par? {resultado}\")\n"
      ],
      "metadata": {
        "id": "vGaW07edWo5c"
      },
      "execution_count": null,
      "outputs": []
    },
    {
      "cell_type": "markdown",
      "source": [
        "**Exemplo 2: Função para Calcular o Fatorial**\n",
        "\n",
        "Uma função que calcula o fatorial de um número inteiro positivo.\n",
        "\n",
        "**Explicação:** A função fatorial multiplica todos os números de 1 até n, calculando o fatorial do número fornecido."
      ],
      "metadata": {
        "id": "euzJbTOOWrCi"
      }
    },
    {
      "cell_type": "code",
      "source": [
        "def fatorial(n):\n",
        "    resultado = 1\n",
        "    for i in range(1, n + 1):\n",
        "        resultado *= i\n",
        "    return resultado\n",
        "\n",
        "# Chamando a função com um número\n",
        "print(f\"O fatorial de 5 é {fatorial(5)}\")\n"
      ],
      "metadata": {
        "id": "OTlOh5GKW8Ez"
      },
      "execution_count": null,
      "outputs": []
    },
    {
      "cell_type": "markdown",
      "source": [
        "**Exemplo 3: Função para Converter Celsius em Fahrenheit**\n",
        "\n",
        "Uma função que recebe uma temperatura em Celsius e retorna a temperatura em Fahrenheit.\n",
        "\n",
        "**Explicação:** A função celsius_para_fahrenheit aplica a fórmula de conversão de Celsius para Fahrenheit e retorna o valor."
      ],
      "metadata": {
        "id": "LWwzPcInW-d7"
      }
    },
    {
      "cell_type": "code",
      "source": [
        "def celsius_para_fahrenheit(celsius):\n",
        "    return (celsius * 9/5) + 32\n",
        "\n",
        "# Chamando a função com uma temperatura em Celsius\n",
        "temperatura_fahrenheit = celsius_para_fahrenheit(30)\n",
        "print(f\"30 graus Celsius equivalem a {temperatura_fahrenheit} graus Fahrenheit.\")\n"
      ],
      "metadata": {
        "id": "q1rKGzjHXEtK"
      },
      "execution_count": null,
      "outputs": []
    },
    {
      "cell_type": "markdown",
      "source": [
        "**Exemplo 4: Função com Parâmetros Opcionais para Desconto**\n",
        "\n",
        "Uma função que calcula o preço final de um produto com um desconto opcional.\n",
        "\n",
        "**Explicação:** A função preco_final tem um parâmetro opcional desconto. Se nenhum valor for passado para ele, assume-se que o desconto é zero."
      ],
      "metadata": {
        "id": "Kcrr4tXHXFkD"
      }
    },
    {
      "cell_type": "code",
      "source": [
        "def preco_final(preco, desconto=0):\n",
        "    return preco - (preco * desconto / 100)\n",
        "\n",
        "# Chamando a função com e sem o desconto\n",
        "print(f\"Preço final sem desconto: {preco_final(100)}\")\n",
        "print(f\"Preço final com 10% de desconto: {preco_final(100, 10)}\")\n"
      ],
      "metadata": {
        "id": "YpeD9JqQXT0z"
      },
      "execution_count": null,
      "outputs": []
    },
    {
      "cell_type": "markdown",
      "source": [
        "**Exemplo 5: Função para Contar Vogais em uma String**\n",
        "\n",
        "Uma função que recebe uma string e conta o número de vogais nela.\n",
        "\n",
        "**Explicação:** A função contar_vogais verifica cada letra da string e incrementa a contagem quando encontra uma vogal."
      ],
      "metadata": {
        "id": "5WVhSGljXSwA"
      }
    },
    {
      "cell_type": "code",
      "source": [
        "def contar_vogais(texto):\n",
        "    vogais = \"aeiouAEIOU\"\n",
        "    contagem = 0\n",
        "    for letra in texto:\n",
        "        if letra in vogais:\n",
        "            contagem += 1\n",
        "    return contagem\n",
        "\n",
        "# Chamando a função com uma string\n",
        "texto = \"Python é incrível\"\n",
        "print(f\"A quantidade de vogais em '{texto}' é {contar_vogais(texto)}\")\n"
      ],
      "metadata": {
        "colab": {
          "base_uri": "https://localhost:8080/"
        },
        "id": "HksAwXbqXbOj",
        "outputId": "4e7b9adf-7d98-4a55-b379-a5e0a9a06408"
      },
      "execution_count": 15,
      "outputs": [
        {
          "output_type": "stream",
          "name": "stdout",
          "text": [
            "A quantidade de vogais em 'Python é incrível' é 3\n"
          ]
        }
      ]
    },
    {
      "cell_type": "markdown",
      "source": [
        "**Lista dse Exercicios Utilizando Funções**\n",
        "\n",
        "**1. Função para Calcular a Área de um Retângulo**\n",
        "\n",
        "Escreva uma função chamada area_retangulo que receba a largura e o comprimento de um retângulo e retorne a área.\n",
        "\n",
        "**2. Função para Calcular Média de Notas**\n",
        "\n",
        "Crie uma função chamada media_notas que receba uma lista de notas e retorne a média.\n",
        "\n",
        "**3. Função para Calcular o Perímetro de um Círculo**\n",
        "\n",
        "Escreva uma função chamada perimetro_circulo que receba o raio de um círculo e retorne o perímetro. Use a fórmula: perímetro = 2 * π * raio.\n",
        "\n",
        "\n",
        "\n"
      ],
      "metadata": {
        "id": "axFDQA0JYjqB"
      }
    }
  ],
  "metadata": {
    "colab": {
      "provenance": [],
      "include_colab_link": true
    },
    "kernelspec": {
      "display_name": "Python 3",
      "name": "python3"
    },
    "language_info": {
      "name": "python"
    }
  },
  "nbformat": 4,
  "nbformat_minor": 0
}