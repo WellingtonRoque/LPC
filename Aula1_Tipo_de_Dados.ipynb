{
  "nbformat": 4,
  "nbformat_minor": 0,
  "metadata": {
    "colab": {
      "provenance": [],
      "authorship_tag": "ABX9TyPcL5/CNYWXBzC0X9i8eygh",
      "include_colab_link": true
    },
    "kernelspec": {
      "name": "python3",
      "display_name": "Python 3"
    },
    "language_info": {
      "name": "python"
    }
  },
  "cells": [
    {
      "cell_type": "markdown",
      "metadata": {
        "id": "view-in-github",
        "colab_type": "text"
      },
      "source": [
        "<a href=\"https://colab.research.google.com/github/WellingtonRoque/AssistenteVirtual/blob/main/Aula1_Tipo_de_Dados.ipynb\" target=\"_parent\"><img src=\"https://colab.research.google.com/assets/colab-badge.svg\" alt=\"Open In Colab\"/></a>"
      ]
    },
    {
      "cell_type": "markdown",
      "source": [
        "# **Aula Inicial de Python: Tipos de Dados Básicos**\n",
        "\n",
        "**Objetivos da Aula**\n",
        "* Introduzir a linguagem de programação\n",
        "* Apresentar os tipos de dados básicos em Python.\n",
        "* Demonstrar como trabalhar com esses tipos de dados através de exemplos práticos.\n"
      ],
      "metadata": {
        "id": "Dim1rhqYcTcu"
      }
    },
    {
      "cell_type": "markdown",
      "source": [
        "**Inteiros (int)**\n",
        "\n",
        "Definição e uso.\n",
        "Operações aritméticas básicas: adição, subtração, multiplicação, divisão."
      ],
      "metadata": {
        "id": "oX6jaGwxdB0C"
      }
    },
    {
      "cell_type": "code",
      "source": [
        "x = 5\n",
        "y = 3\n",
        "print(type(x))  # <class 'int'>\n",
        "print(type(y))\n",
        "print(x + y)  # 8\n",
        "print(x - y)  # 2\n",
        "print(x * y)  # 15\n",
        "#print(x / y)  # 1.6666666666666667"
      ],
      "metadata": {
        "colab": {
          "base_uri": "https://localhost:8080/"
        },
        "id": "8mWaBBbNck1p",
        "outputId": "e5e3423a-5050-418a-d552-9eb4396454d9"
      },
      "execution_count": null,
      "outputs": [
        {
          "output_type": "stream",
          "name": "stdout",
          "text": [
            "<class 'int'>\n",
            "<class 'int'>\n",
            "8\n",
            "2\n",
            "15\n"
          ]
        }
      ]
    },
    {
      "cell_type": "markdown",
      "source": [
        "**Pontos Flutuantes (float)**\n",
        "\n",
        "\n",
        "* Definição e uso.\n",
        "* Operações aritméticas.\n",
        "\n",
        "\n"
      ],
      "metadata": {
        "id": "jFKuRtKaqKd_"
      }
    },
    {
      "cell_type": "code",
      "source": [
        "a = 5.0\n",
        "b = 3.0\n",
        "print(type(a))  # <class 'float'>\n",
        "print(type(b))\n",
        "print(a + b)  # 8.0\n",
        "print(a - b)  # 2.0\n",
        "print(a * b)  # 15.0\n",
        "print(a / b)  # 1.6666666666666667"
      ],
      "metadata": {
        "colab": {
          "base_uri": "https://localhost:8080/"
        },
        "id": "jjwHiDTUqj8s",
        "outputId": "fde583a7-ea4d-47d1-9ce1-a608527c7ec9"
      },
      "execution_count": null,
      "outputs": [
        {
          "output_type": "stream",
          "name": "stdout",
          "text": [
            "<class 'float'>\n",
            "<class 'float'>\n",
            "8.0\n",
            "2.0\n",
            "15.0\n",
            "1.6666666666666667\n"
          ]
        }
      ]
    },
    {
      "cell_type": "code",
      "source": [
        "num = 5\n",
        "print(type(num))"
      ],
      "metadata": {
        "colab": {
          "base_uri": "https://localhost:8080/"
        },
        "id": "Txlmql8wraNh",
        "outputId": "1a9d0750-6524-4ebd-8aa2-855e669480bd"
      },
      "execution_count": null,
      "outputs": [
        {
          "output_type": "stream",
          "name": "stdout",
          "text": [
            "<class 'int'>\n"
          ]
        }
      ]
    },
    {
      "cell_type": "markdown",
      "source": [
        "**Strings (str)**\n",
        "\n",
        "Definição e uso.\n",
        "\n",
        "* Operações com strings: concatenação, repetição, indexação.\n",
        "\n",
        "\n"
      ],
      "metadata": {
        "id": "SNir7CX7sU4N"
      }
    },
    {
      "cell_type": "code",
      "source": [
        "name = \"Python\"\n",
        "print(name)         # Python\n",
        "print(name + \"3\")   # Python3\n",
        "print(name * 3)     # PythonPythonPython\n",
        "print(name[0])      # P\n",
        "print(name[-1])     # n"
      ],
      "metadata": {
        "colab": {
          "base_uri": "https://localhost:8080/"
        },
        "id": "g048lGUgsj1u",
        "outputId": "46f55831-45f0-4ed0-8293-dbabce668dda"
      },
      "execution_count": null,
      "outputs": [
        {
          "output_type": "stream",
          "name": "stdout",
          "text": [
            "Python\n",
            "Python3\n",
            "PythonPythonPython\n",
            "P\n",
            "n\n"
          ]
        }
      ]
    },
    {
      "cell_type": "markdown",
      "source": [
        "**Booleanos (bool)**\n",
        "\n",
        "* Definição e uso.\n",
        "* Operadores lógicos: and, or, not."
      ],
      "metadata": {
        "id": "KQShLn-G1WdJ"
      }
    },
    {
      "cell_type": "code",
      "source": [
        "is_python_fun = True\n",
        "is_python_hard = False\n",
        "print(is_python_fun and is_python_hard)  # False\n",
        "print(is_python_fun or is_python_hard)   # True\n",
        "print(not is_python_fun)                 # False"
      ],
      "metadata": {
        "colab": {
          "base_uri": "https://localhost:8080/"
        },
        "id": "Cee_0L8j2e7l",
        "outputId": "edfcbbb2-c724-46f1-f24e-403750cab2f7"
      },
      "execution_count": null,
      "outputs": [
        {
          "output_type": "stream",
          "name": "stdout",
          "text": [
            "False\n",
            "True\n",
            "False\n"
          ]
        }
      ]
    },
    {
      "cell_type": "markdown",
      "source": [
        "# Entrada e Saída de Dados em Python\n",
        "\n",
        "**Objetivos da Aula**\n",
        "\n",
        "* Compreender os conceitos de entrada e saída de dados em Python.\n",
        "* Aprender a utilizar os comandos input() para entrada de dados e print() para saída de dados.\n",
        "* Praticar a manipulação de dados de entrada e formatação de saída.\n",
        "\n",
        "\n",
        "\n",
        "# Conteúdo da Aula\n",
        "\n",
        "**Introdução à Entrada e Saída de Dados**\n",
        "\n",
        "* Conceito de entrada e saída de dados em programação.\n",
        "* Importância da interação entre usuário e programa.\n",
        "\n",
        "**Comando print()**\n",
        "\n",
        "\n",
        "* Função print() para exibir dados na tela.\n",
        "* Sintaxe básica do print().\n",
        "* Exemplos de uso.\n",
        "* Saída formatada com print().\n",
        "\n",
        "\n",
        "**Comando input()**\n",
        "\n",
        "* Função input() para receber dados do usuário.\n",
        "* Sintaxe básica do input().\n",
        "* Captura e uso de diferentes tipos de dados com input().\n",
        "* Conversão de tipos de dados.\n",
        "\n",
        "**Exemplos Práticos**\n",
        "\n",
        "* Exercícios básicos de entrada e saída de dados.\n",
        "* Aplicação em pequenos programas.\n",
        "\n",
        "# Detalhamento dos Conteúdos\n",
        "\n",
        "1. Introdução à Entrada e Saída de Dados\n",
        "Entrada e saída de dados são fundamentais para a interação entre o usuário e o programa. A entrada permite ao usuário fornecer informações ao programa, enquanto a saída permite que o programa exiba informações ao usuário.\n",
        "\n",
        "2. Comando print()\n",
        "A função print() é usada para exibir dados na tela. Vamos ver a sintaxe básica e alguns exemplos:"
      ],
      "metadata": {
        "id": "h_f5H73E4l9Y"
      }
    },
    {
      "cell_type": "code",
      "source": [
        "# Sintaxe básica\n",
        "print(\"Olá, Mundo!\")\n",
        "\n",
        "# Exibindo variáveis\n",
        "nome = \"João\"\n",
        "idade = 25\n",
        "print(\"Nome:\", nome)\n",
        "print(\"Idade:\", idade)\n",
        "\n",
        "# Saída formatada\n",
        "print(f\"Nome: {nome}, Idade: {idade}\")\n",
        "print(\"Nome: {}, Idade: {}\".format(nome, idade))"
      ],
      "metadata": {
        "colab": {
          "base_uri": "https://localhost:8080/"
        },
        "id": "PWQqC3SC61Yw",
        "outputId": "7621b846-ac81-44a7-e88e-9dd1e9b375e2"
      },
      "execution_count": null,
      "outputs": [
        {
          "output_type": "stream",
          "name": "stdout",
          "text": [
            "Olá, Mundo!\n",
            "Nome: João\n",
            "Idade: 25\n",
            "Nome: João, Idade: 25\n",
            "Nome: João, Idade: 25\n"
          ]
        }
      ]
    },
    {
      "cell_type": "markdown",
      "source": [
        "3. Comando input()\n",
        "\n",
        "A função input() é usada para capturar dados do usuário. Os dados são sempre capturados como strings, então é necessário converter para outros tipos quando necessário."
      ],
      "metadata": {
        "id": "hHQCBr7c8V8g"
      }
    },
    {
      "cell_type": "code",
      "source": [
        "# Capturando uma string\n",
        "nome = input(\"Digite seu nome: \")\n",
        "print(f\"Olá, {nome}!\")\n",
        "\n",
        "# Capturando um número inteiro\n",
        "idade = int(input(\"Digite sua idade: \"))\n",
        "print(f\"Você tem {idade} anos.\")\n",
        "\n",
        "# Capturando um número decimal\n",
        "altura = float(input(\"Digite sua altura: \"))\n",
        "print(f\"Sua altura é {altura} metros.\")"
      ],
      "metadata": {
        "colab": {
          "base_uri": "https://localhost:8080/"
        },
        "id": "Lpu5PIRS8f2i",
        "outputId": "80bf9eaa-e7d2-4464-ceb6-1d0217021ede"
      },
      "execution_count": null,
      "outputs": [
        {
          "output_type": "stream",
          "name": "stdout",
          "text": [
            "Digite seu nome: roque\n",
            "Olá, roque!\n",
            "Digite sua idade: 23\n",
            "Você tem 23 anos.\n",
            "Digite sua altura: 1.78\n",
            "Sua altura é 1.78 metros.\n"
          ]
        }
      ]
    },
    {
      "cell_type": "markdown",
      "source": [
        "# 4. Exemplos Práticos\n",
        "\n",
        "Exemplo 1: Programa Simples de Boas-Vindas"
      ],
      "metadata": {
        "id": "rLm15Lls8-ti"
      }
    },
    {
      "cell_type": "code",
      "source": [
        "nome = input(\"Digite seu nome: \")\n",
        "print(f\"Olá, {nome}! Seja bem-vindo(a)!\")"
      ],
      "metadata": {
        "id": "JIUi6dxoAnIF"
      },
      "execution_count": null,
      "outputs": []
    },
    {
      "cell_type": "markdown",
      "source": [
        "Exemplo 2: Soma de Dois Números"
      ],
      "metadata": {
        "id": "ivc3XkJwAu98"
      }
    },
    {
      "cell_type": "code",
      "source": [
        "num1 = float(input(\"Digite o primeiro número: \"))\n",
        "num2 = float(input(\"Digite o segundo número: \"))\n",
        "soma = num1 + num2\n",
        "print(f\"A soma de {num1} e {num2} é {soma}.\")"
      ],
      "metadata": {
        "id": "x6wE-BjUADPd"
      },
      "execution_count": null,
      "outputs": []
    },
    {
      "cell_type": "markdown",
      "source": [
        "Exemplo 3: Calculadora de IMC"
      ],
      "metadata": {
        "id": "W092RLFEA8w3"
      }
    },
    {
      "cell_type": "code",
      "source": [
        "peso = float(input(\"Digite seu peso (kg): \"))\n",
        "altura = float(input(\"Digite sua altura (m): \"))\n",
        "imc = peso / (altura ** 2)\n",
        "print(f\"Seu IMC é {imc:.2f}.\")"
      ],
      "metadata": {
        "id": "ZqlEriwvA91B"
      },
      "execution_count": null,
      "outputs": []
    },
    {
      "cell_type": "markdown",
      "source": [
        "Atividades Práticas"
      ],
      "metadata": {
        "id": "L7SKKDwuBCQX"
      }
    },
    {
      "cell_type": "markdown",
      "source": [
        "Peça ao usuário para inserir três números e calcule a média deles.\n",
        "\n",
        "Peça ao usuário para inserir a base e a altura de um triângulo e calcule a área.\n",
        "\n",
        "Peça ao usuário para inserir o capital, a taxa de juros e o tempo, e calcule o montante final usando a fórmula de juros simples.\n",
        "\n",
        "Crie duas variáveis a e b, atribua valores a elas e imprima a soma, subtração, multiplicação e divisão dos valores.\n",
        "\n",
        "Peça ao usuário para inserir a largura e a altura de um retângulo e calcule a área.\n",
        "\n",
        "Escreva um programa que converte uma temperatura de graus Celsius para Fahrenheit."
      ],
      "metadata": {
        "id": "RUeGvPWmBQFR"
      }
    }
  ]
}