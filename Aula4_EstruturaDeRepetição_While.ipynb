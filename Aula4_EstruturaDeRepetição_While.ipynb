{
  "nbformat": 4,
  "nbformat_minor": 0,
  "metadata": {
    "colab": {
      "provenance": [],
      "authorship_tag": "ABX9TyM9Pj7ewfJ0nSGpO361VlR3",
      "include_colab_link": true
    },
    "kernelspec": {
      "name": "python3",
      "display_name": "Python 3"
    },
    "language_info": {
      "name": "python"
    }
  },
  "cells": [
    {
      "cell_type": "markdown",
      "metadata": {
        "id": "view-in-github",
        "colab_type": "text"
      },
      "source": [
        "<a href=\"https://colab.research.google.com/github/WellingtonRoque/lpc/blob/main/Aula4_EstruturaDeRepeti%C3%A7%C3%A3o_While.ipynb\" target=\"_parent\"><img src=\"https://colab.research.google.com/assets/colab-badge.svg\" alt=\"Open In Colab\"/></a>"
      ]
    },
    {
      "cell_type": "markdown",
      "source": [],
      "metadata": {
        "id": "iPJ0ipOsLKkm"
      }
    },
    {
      "cell_type": "markdown",
      "source": [
        "**Objetivo da Aula**\n",
        "\n",
        "1. Introdução aos Loops em Python\n",
        "\n",
        "Ao final desta aula, você será capaz de:\n",
        "\n",
        "Entender o conceito de loops e a estrutura de repetição while.\n",
        "Utilizar o loop while para executar blocos de código repetidamente até que uma condição seja satisfeita.\n",
        "Implementar programas que utilizem o while para resolver problemas práticos.\n",
        "\n",
        "2. O que é o Loop while?\n",
        "O loop while em Python permite repetir um bloco de código enquanto uma condição é verdadeira.\n",
        "\n",
        "A sintaxe básica é:"
      ],
      "metadata": {
        "id": "6KznfA68LTKg"
      }
    },
    {
      "cell_type": "code",
      "execution_count": 1,
      "metadata": {
        "colab": {
          "base_uri": "https://localhost:8080/",
          "height": 109
        },
        "id": "X44dBmbzK6Yc",
        "outputId": "404e1fa5-7da1-4839-cbb2-eb597a2f5be0"
      },
      "outputs": [
        {
          "output_type": "error",
          "ename": "SyntaxError",
          "evalue": "incomplete input (<ipython-input-1-0d55960ca43a>, line 2)",
          "traceback": [
            "\u001b[0;36m  File \u001b[0;32m\"<ipython-input-1-0d55960ca43a>\"\u001b[0;36m, line \u001b[0;32m2\u001b[0m\n\u001b[0;31m    # bloco de código a ser repetido\u001b[0m\n\u001b[0m                                    ^\u001b[0m\n\u001b[0;31mSyntaxError\u001b[0m\u001b[0;31m:\u001b[0m incomplete input\n"
          ]
        }
      ],
      "source": [
        "while condição:\n",
        "    # bloco de código a ser repetido"
      ]
    },
    {
      "cell_type": "markdown",
      "source": [
        "- condição: uma expressão que é avaliada como True ou False. Enquanto a condição for True, o loop continuará a ser executado.\n",
        "- Bloco de código: o conjunto de instruções que serão repetidas.\n",
        "Deve ser indentado.\n",
        "\n",
        "3. Funcionamento do while\n",
        "Vamos entender o funcionamento do while com um exemplo simples:"
      ],
      "metadata": {
        "id": "n4P3pKg_MdAs"
      }
    },
    {
      "cell_type": "code",
      "source": [
        "contador = 0\n",
        "while contador < 5:\n",
        "    print(\"Contador é:\", contador)\n",
        "    contador += 1"
      ],
      "metadata": {
        "id": "McduivGxOyD0"
      },
      "execution_count": null,
      "outputs": []
    },
    {
      "cell_type": "markdown",
      "source": [
        "Explicação do Código:\n",
        "\n",
        "- Inicialização: A variável contador é inicializada com o valor 0.\n",
        "\n",
        "- Condição: while contador < 5 verifica se o valor de contador é menor que 5.\n",
        "\n",
        "- Bloco de Código:\n",
        "Imprime o valor atual de contador.\n",
        "Incrementa o valor de contador em 1.\n",
        "\n",
        "- Repetição: O loop continua até que contador não seja mais menor que 5."
      ],
      "metadata": {
        "id": "MC2o8TaWO20t"
      }
    },
    {
      "cell_type": "markdown",
      "source": [
        "4. Importância de Atualizar a Condição\n",
        "É crucial garantir que a condição do while eventualmente se torne False, caso contrário, o loop continuará indefinidamente (loop infinito).\n",
        "\n",
        "Por exemplo:"
      ],
      "metadata": {
        "id": "9aXwf1_NPM06"
      }
    },
    {
      "cell_type": "code",
      "source": [
        "x = 10\n",
        "while x > 0:\n",
        "    print(x)\n",
        "    # Esquecer de decrementar x resulta em loop infinito\n"
      ],
      "metadata": {
        "id": "cZsTMe6pPSSV"
      },
      "execution_count": null,
      "outputs": []
    },
    {
      "cell_type": "markdown",
      "source": [
        "Para evitar um loop infinito:"
      ],
      "metadata": {
        "id": "kgi3wJXmPTOS"
      }
    },
    {
      "cell_type": "code",
      "source": [
        "x = 10\n",
        "while x > 0:\n",
        "    print(x)\n",
        "    x -= 1  # Decrementa x em 1 a cada iteração"
      ],
      "metadata": {
        "id": "ZGB9gOXhPdtR"
      },
      "execution_count": null,
      "outputs": []
    },
    {
      "cell_type": "markdown",
      "source": [
        "5. Exemplos Práticos\n",
        "\n",
        "Exemplo 1: Contagem Regressiva\n",
        "\n",
        "- Vamos criar um programa que realiza uma contagem regressiva a partir de um número fornecido pelo usuário:"
      ],
      "metadata": {
        "id": "uFSqUmxoPrrx"
      }
    },
    {
      "cell_type": "code",
      "source": [
        "numero = int(input(\"Digite um número para começar a contagem regressiva: \"))\n",
        "while numero > 0:\n",
        "    print(numero)\n",
        "    numero -= 1\n",
        "print(\"Fim da contagem regressiva!\")\n"
      ],
      "metadata": {
        "id": "FVK3t2LNPxA7"
      },
      "execution_count": null,
      "outputs": []
    },
    {
      "cell_type": "markdown",
      "source": [
        "Exemplo 2: Menu de Opções com while\n",
        "\n",
        "Podemos usar o while para criar um menu interativo que só termina quando o usuário decide sair:"
      ],
      "metadata": {
        "id": "IZU0PDXJP0TD"
      }
    },
    {
      "cell_type": "code",
      "source": [
        "opcao = \"\"\n",
        "while opcao != \"4\":\n",
        "    print(\"\\nMenu:\")\n",
        "    print(\"1. Dizer Olá\")\n",
        "    print(\"2. Dizer Adeus\")\n",
        "    print(\"3. Repetir Menu\")\n",
        "    print(\"4. Sair\")\n",
        "\n",
        "    opcao = input(\"Escolha uma opção: \")\n",
        "\n",
        "    if opcao == \"1\":\n",
        "        print(\"Olá!\")\n",
        "    elif opcao == \"2\":\n",
        "        print(\"Adeus!\")\n",
        "    elif opcao == \"3\":\n",
        "        continue  # Continua o loop, exibindo o menu novamente\n",
        "    elif opcao == \"4\":\n",
        "        print(\"Saindo do programa...\")\n",
        "    else:\n",
        "        print(\"Opção inválida! Tente novamente.\")\n"
      ],
      "metadata": {
        "id": "sPYgtnAAP6UZ"
      },
      "execution_count": null,
      "outputs": []
    },
    {
      "cell_type": "markdown",
      "source": [
        "6. Palavras-Chave Úteis: break e continue\n",
        "break: Interrompe a execução do loop, independente da condição."
      ],
      "metadata": {
        "id": "vGxbx3_4QKkn"
      }
    },
    {
      "cell_type": "code",
      "source": [
        "contador = 0\n",
        "while contador < 10:\n",
        "    if contador == 5:\n",
        "        break  # Interrompe o loop quando contador é 5\n",
        "    print(contador)\n",
        "    contador += 1\n"
      ],
      "metadata": {
        "id": "Zn_AarvHQOCf"
      },
      "execution_count": null,
      "outputs": []
    },
    {
      "cell_type": "markdown",
      "source": [
        "- continue: Pula a iteração atual e vai para a próxima."
      ],
      "metadata": {
        "id": "jVD3TEJeQRTj"
      }
    },
    {
      "cell_type": "code",
      "source": [
        "contador = 0\n",
        "while contador < 10:\n",
        "    contador += 1\n",
        "    if contador % 2 == 0:\n",
        "        continue  # Pula para a próxima iteração se contador é par\n",
        "    print(contador)\n"
      ],
      "metadata": {
        "id": "lkozRBbIQVa3"
      },
      "execution_count": null,
      "outputs": []
    },
    {
      "cell_type": "markdown",
      "source": [
        "O while loop é uma ferramenta poderosa em Python para repetir blocos de código enquanto uma condição é verdadeira.\n",
        "\n",
        "Com o entendimento e uso adequado do while, você pode criar programas mais dinâmicos e interativos.\n",
        "\n",
        "Certifique-se de entender como controlar as condições do loop para evitar loops infinitos e sempre testar seu código para garantir que ele funcione conforme o esperado."
      ],
      "metadata": {
        "id": "5fHMcKVOREA2"
      }
    },
    {
      "cell_type": "markdown",
      "source": [
        "**Lista de Exercícios com while**\n",
        "\n",
        "1. Contagem Crescente: Escreva um programa que use um loop while para imprimir todos os números de 1 a 10.\n",
        "\n",
        "2. Contagem Regressiva: Modifique o programa anterior para imprimir uma contagem regressiva de 10 a 1.\n",
        "\n",
        "3. Soma de Números: Crie um programa que solicite ao usuário para inserir números e some esses números até que o usuário insira zero. Quando zero for inserido, o programa deve imprimir a soma total.\n",
        "\n",
        "4. Encontrar o Máximo: Crie um programa que peça ao usuário para inserir números e encontre o maior número inserido. O programa deve continuar pedindo números até que o usuário digite \"sair\".\n",
        "\n",
        "5. Conversão de Temperatura: Faça um programa que converta uma temperatura de Celsius para Fahrenheit. Continue pedindo ao usuário para inserir uma nova temperatura em Celsius até que ele digite \"sair\".\n",
        "\n",
        "6. Simulador de Caixa Eletrônico: Crie um programa que simule um caixa eletrônico, que continue pedindo ao usuário para inserir um valor de saque até que o saldo da conta seja zero ou negativo.\n",
        "\n",
        "7. Média de Notas: Escreva um programa que continue pedindo ao usuário para inserir notas (0 a 10) e calcule a média dessas notas. O programa deve parar quando o usuário digitar uma nota negativa.\n",
        "\n",
        "8. Conversor de Moeda: Crie um programa que converta uma quantia em dólares para euros. Continue pedindo ao usuário quantias em dólares para converter até que ele insira \"0\".\n",
        "\n",
        "9. Encontrar o Menor: Crie um programa que peça ao usuário para inserir números continuamente e encontre o menor número inserido. O loop deve terminar quando o usuário digitar \"parar\".\n",
        "\n",
        "10. Simulação de Dados de Sensor: Crie um programa que simule a leitura de dados de um sensor e continue capturando dados até que um valor fora do intervalo de operação seja detectado (por exemplo, fora de 0 a 100)."
      ],
      "metadata": {
        "id": "P6sZAQ9pRqNt"
      }
    }
  ]
}