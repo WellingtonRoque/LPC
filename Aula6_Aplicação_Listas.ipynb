{
  "nbformat": 4,
  "nbformat_minor": 0,
  "metadata": {
    "colab": {
      "provenance": [],
      "authorship_tag": "ABX9TyNA4Q6DyqdR868Ob2HOOvaN",
      "include_colab_link": true
    },
    "kernelspec": {
      "name": "python3",
      "display_name": "Python 3"
    },
    "language_info": {
      "name": "python"
    }
  },
  "cells": [
    {
      "cell_type": "markdown",
      "metadata": {
        "id": "view-in-github",
        "colab_type": "text"
      },
      "source": [
        "<a href=\"https://colab.research.google.com/github/WellingtonRoque/lpc/blob/main/Aula6_Aplica%C3%A7%C3%A3o_Listas.ipynb\" target=\"_parent\"><img src=\"https://colab.research.google.com/assets/colab-badge.svg\" alt=\"Open In Colab\"/></a>"
      ]
    },
    {
      "cell_type": "markdown",
      "source": [
        "**Exemplo de Aplicativo de Gerenciamento de Clientes**\n",
        "\n",
        "Aqui está um exemplo simples de um aplicativo em Python que armazena e gerencia os dados de clientes para uma empresa.\n",
        "\n",
        "Este aplicativo usa listas e dicionários para armazenar os dados de cada cliente, permitindo adicionar e visualizar informações.\n",
        "\n",
        "\n",
        "**Explicação**\n",
        "\n",
        "**Clientes:** Armazenados em uma lista, onde cada cliente é um dicionário com nome, email e telefone.\n",
        "\n",
        "**Adicionar Cliente:** Função para adicionar um cliente à lista.\n",
        "\n",
        "**Listar Clientes:** Exibe todos os clientes cadastrados.\n",
        "\n",
        "**Menu:** Interface simples para escolher entre adicionar cliente, listar clientes ou sair do programa.\n",
        "\n",
        "\n",
        "**Próximos Passos**\n",
        "\n",
        "* Armazenar os dados em um banco de dados para persistência.\n",
        "\n",
        "* Criar um sistema de busca e atualização de clientes.\n",
        "\n",
        "* Criar uma interface gráfica usando bibliotecas como Tkinter ou PyQt.\n",
        "\n",
        "\n",
        " **Segue um exemplo de como criar um aplicativo para armazenar dados de clientes**\n"
      ],
      "metadata": {
        "id": "mUI7rvXT84Io"
      }
    },
    {
      "cell_type": "code",
      "source": [
        "# Lista para armazenar os clientes\n",
        "clientes = []\n",
        "\n",
        "# Interface de menu simples\n",
        "while True:\n",
        "    print(\"\\n=== Sistema de Gerenciamento de Clientes ===\")\n",
        "    print(\"1. Adicionar Cliente\")\n",
        "    print(\"2. Listar Clientes\")\n",
        "    print(\"3. Sair\")\n",
        "\n",
        "    escolha = input(\"Escolha uma opção: \")\n",
        "\n",
        "    if escolha == '1':\n",
        "        # Adicionar Cliente\n",
        "        nome = input(\"Digite o nome do cliente: \")\n",
        "        email = input(\"Digite o email do cliente: \")\n",
        "        telefone = input(\"Digite o telefone do cliente: \")\n",
        "        cliente = {\n",
        "            'nome': nome,\n",
        "            'email': email,\n",
        "            'telefone': telefone\n",
        "        }\n",
        "        clientes.append(cliente)\n",
        "        print(f\"Cliente {nome} adicionado com sucesso!\")\n",
        "\n",
        "    elif escolha == '2':\n",
        "        # Listar Clientes\n",
        "        if clientes:\n",
        "            print(\"\\nLista de Clientes:\")\n",
        "            for i, cliente in enumerate(clientes, 1):\n",
        "                print(f\"{i}. Nome: {cliente['nome']}, Email: {cliente['email']}, Telefone: {cliente['telefone']}\")\n",
        "        else:\n",
        "            print(\"Nenhum cliente cadastrado.\")\n",
        "\n",
        "    elif escolha == '3':\n",
        "        # Sair do programa\n",
        "        print(\"Saindo...\")\n",
        "        break\n",
        "\n",
        "    else:\n",
        "        print(\"Opção inválida! Tente novamente.\")\n"
      ],
      "metadata": {
        "colab": {
          "base_uri": "https://localhost:8080/"
        },
        "id": "TiEXEqsy9vvv",
        "outputId": "a4e41cbe-87b2-442b-c06e-00ca8001d12d"
      },
      "execution_count": null,
      "outputs": [
        {
          "output_type": "stream",
          "name": "stdout",
          "text": [
            "\n",
            "=== Sistema de Gerenciamento de Clientes ===\n",
            "1. Adicionar Cliente\n",
            "2. Listar Clientes\n",
            "3. Sair\n",
            "Escolha uma opção: 3\n",
            "Saindo...\n"
          ]
        }
      ]
    },
    {
      "cell_type": "markdown",
      "source": [
        "**Aqui estão mais 5 exemplos de aplicativos simples para armazenar e manipular dados sem o uso de funções**"
      ],
      "metadata": {
        "id": "-TxsAqfP-H6H"
      }
    },
    {
      "cell_type": "markdown",
      "source": [
        "**Exemplo 1: Armazenar Produtos em um Inventário**"
      ],
      "metadata": {
        "id": "ZeZ1gkag-Nz9"
      }
    },
    {
      "cell_type": "code",
      "source": [
        "inventario = []\n",
        "\n",
        "while True:\n",
        "    print(\"\\n1. Adicionar Produto\")\n",
        "    print(\"2. Listar Produtos\")\n",
        "    print(\"3. Sair\")\n",
        "\n",
        "    opcao = input(\"Escolha uma opção: \")\n",
        "\n",
        "    if opcao == '1':\n",
        "        nome = input(\"Nome do produto: \")\n",
        "        quantidade = int(input(\"Quantidade: \"))\n",
        "        produto = {'nome': nome, 'quantidade': quantidade}\n",
        "        inventario.append(produto)\n",
        "        print(f\"Produto {nome} adicionado.\")\n",
        "\n",
        "    elif opcao == '2':\n",
        "        if inventario:\n",
        "            for i, produto in enumerate(inventario, 1):\n",
        "                print(f\"{i}. {produto['nome']} - {produto['quantidade']} unidades\")\n",
        "        else:\n",
        "            print(\"Inventário vazio.\")\n",
        "\n",
        "    elif opcao == '3':\n",
        "        print(\"Saindo...\")\n",
        "        break\n",
        "\n",
        "    else:\n",
        "        print(\"Opção inválida!\")\n"
      ],
      "metadata": {
        "id": "8AHaUGJ3-QQe"
      },
      "execution_count": null,
      "outputs": []
    },
    {
      "cell_type": "markdown",
      "source": [
        "**Exemplo 2: Gerenciamento de Tarefas**"
      ],
      "metadata": {
        "id": "rnEWA8oO-TMV"
      }
    },
    {
      "cell_type": "code",
      "source": [
        "tarefas = []\n",
        "\n",
        "while True:\n",
        "    print(\"\\n1. Adicionar Tarefa\")\n",
        "    print(\"2. Listar Tarefas\")\n",
        "    print(\"3. Marcar Tarefa como Concluída\")\n",
        "    print(\"4. Sair\")\n",
        "\n",
        "    opcao = input(\"Escolha uma opção: \")\n",
        "\n",
        "    if opcao == '1':\n",
        "        descricao = input(\"Descrição da tarefa: \")\n",
        "        tarefas.append({'tarefa': descricao, 'concluida': False})\n",
        "        print(\"Tarefa adicionada.\")\n",
        "\n",
        "    elif opcao == '2':\n",
        "        if tarefas:\n",
        "            for i, tarefa in enumerate(tarefas, 1):\n",
        "                status = \"Concluída\" if tarefa['concluida'] else \"Pendente\"\n",
        "                print(f\"{i}. {tarefa['tarefa']} - {status}\")\n",
        "        else:\n",
        "            print(\"Nenhuma tarefa cadastrada.\")\n",
        "\n",
        "    elif opcao == '3':\n",
        "        num_tarefa = int(input(\"Número da tarefa a concluir: \")) - 1\n",
        "        if 0 <= num_tarefa < len(tarefas):\n",
        "            tarefas[num_tarefa]['concluida'] = True\n",
        "            print(\"Tarefa concluída.\")\n",
        "        else:\n",
        "            print(\"Tarefa inválida.\")\n",
        "\n",
        "    elif opcao == '4':\n",
        "        print(\"Saindo...\")\n",
        "        break\n",
        "\n",
        "    else:\n",
        "        print(\"Opção inválida!\")\n"
      ],
      "metadata": {
        "id": "NhJ319hu-VWV"
      },
      "execution_count": null,
      "outputs": []
    },
    {
      "cell_type": "markdown",
      "source": [
        "**Exemplo 3: Registro de Notas de Alunos**"
      ],
      "metadata": {
        "id": "Jy7_HB_z-W-P"
      }
    },
    {
      "cell_type": "code",
      "source": [
        "alunos = []\n",
        "\n",
        "while True:\n",
        "    print(\"\\n1. Adicionar Aluno e Nota\")\n",
        "    print(\"2. Listar Alunos e Notas\")\n",
        "    print(\"3. Sair\")\n",
        "\n",
        "    opcao = input(\"Escolha uma opção: \")\n",
        "\n",
        "    if opcao == '1':\n",
        "        nome = input(\"Nome do aluno: \")\n",
        "        nota = float(input(\"Nota: \"))\n",
        "        aluno = {'nome': nome, 'nota': nota}\n",
        "        alunos.append(aluno)\n",
        "        print(f\"Aluno {nome} adicionado com nota {nota}.\")\n",
        "\n",
        "    elif opcao == '2':\n",
        "        if alunos:\n",
        "            for i, aluno in enumerate(alunos, 1):\n",
        "                print(f\"{i}. {aluno['nome']} - Nota: {aluno['nota']}\")\n",
        "        else:\n",
        "            print(\"Nenhum aluno registrado.\")\n",
        "\n",
        "    elif opcao == '3':\n",
        "        print(\"Saindo...\")\n",
        "        break\n",
        "\n",
        "    else:\n",
        "        print(\"Opção inválida!\")\n"
      ],
      "metadata": {
        "id": "S6a3dTbx-bGF"
      },
      "execution_count": null,
      "outputs": []
    },
    {
      "cell_type": "markdown",
      "source": [
        "**Exemplo 4: Registro de Filmes Assistidos**"
      ],
      "metadata": {
        "id": "JXmt_bLE-f09"
      }
    },
    {
      "cell_type": "code",
      "source": [
        "filmes = []\n",
        "\n",
        "while True:\n",
        "    print(\"\\n1. Adicionar Filme\")\n",
        "    print(\"2. Listar Filmes\")\n",
        "    print(\"3. Sair\")\n",
        "\n",
        "    opcao = input(\"Escolha uma opção: \")\n",
        "\n",
        "    if opcao == '1':\n",
        "        titulo = input(\"Título do filme: \")\n",
        "        ano = input(\"Ano de lançamento: \")\n",
        "        filmes.append({'titulo': titulo, 'ano': ano})\n",
        "        print(f\"Filme {titulo} adicionado.\")\n",
        "\n",
        "    elif opcao == '2':\n",
        "        if filmes:\n",
        "            for i, filme in enumerate(filmes, 1):\n",
        "                print(f\"{i}. {filme['titulo']} ({filme['ano']})\")\n",
        "        else:\n",
        "            print(\"Nenhum filme registrado.\")\n",
        "\n",
        "    elif opcao == '3':\n",
        "        print(\"Saindo...\")\n",
        "        break\n",
        "\n",
        "    else:\n",
        "        print(\"Opção inválida!\")\n"
      ],
      "metadata": {
        "id": "orUlztZA-hFm"
      },
      "execution_count": null,
      "outputs": []
    },
    {
      "cell_type": "markdown",
      "source": [
        "**Exemplo 5: Cadastro de Livros Lidos**"
      ],
      "metadata": {
        "id": "QFp2NEld-kqt"
      }
    },
    {
      "cell_type": "code",
      "source": [
        "livros = []\n",
        "\n",
        "while True:\n",
        "    print(\"\\n1. Adicionar Livro\")\n",
        "    print(\"2. Listar Livros Lidos\")\n",
        "    print(\"3. Sair\")\n",
        "\n",
        "    opcao = input(\"Escolha uma opção: \")\n",
        "\n",
        "    if opcao == '1':\n",
        "        titulo = input(\"Título do livro: \")\n",
        "        autor = input(\"Autor: \")\n",
        "        livros.append({'titulo': titulo, 'autor': autor})\n",
        "        print(f\"Livro {titulo} adicionado.\")\n",
        "\n",
        "    elif opcao == '2':\n",
        "        if livros:\n",
        "            for i, livro in enumerate(livros, 1):\n",
        "                print(f\"{i}. {livro['titulo']} por {livro['autor']}\")\n",
        "        else:\n",
        "            print(\"Nenhum livro registrado.\")\n",
        "\n",
        "    elif opcao == '3':\n",
        "        print(\"Saindo...\")\n",
        "        break\n",
        "\n",
        "    else:\n",
        "        print(\"Opção inválida!\")\n"
      ],
      "metadata": {
        "id": "bHQujiWR-mQm"
      },
      "execution_count": null,
      "outputs": []
    },
    {
      "cell_type": "markdown",
      "source": [
        "Esses exemplos podem ser ampliados com mais funcionalidades ou usando conceitos mais avançados conforme necessário.\n",
        "\n",
        "Eles demonstram como organizar dados em listas e dicionários, criando menus interativos para facilitar a interação do usuário."
      ],
      "metadata": {
        "id": "7ZruXmUG-pIu"
      }
    }
  ]
}