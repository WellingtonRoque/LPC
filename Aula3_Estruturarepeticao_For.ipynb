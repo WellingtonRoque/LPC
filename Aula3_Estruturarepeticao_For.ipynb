{
  "nbformat": 4,
  "nbformat_minor": 0,
  "metadata": {
    "colab": {
      "provenance": [],
      "authorship_tag": "ABX9TyM4j9T3CjjhjCMFO2BjHWiG",
      "include_colab_link": true
    },
    "kernelspec": {
      "name": "python3",
      "display_name": "Python 3"
    },
    "language_info": {
      "name": "python"
    }
  },
  "cells": [
    {
      "cell_type": "markdown",
      "metadata": {
        "id": "view-in-github",
        "colab_type": "text"
      },
      "source": [
        "<a href=\"https://colab.research.google.com/github/WellingtonRoque/lpc/blob/main/Aula3_Estruturarepeticao_For.ipynb\" target=\"_parent\"><img src=\"https://colab.research.google.com/assets/colab-badge.svg\" alt=\"Open In Colab\"/></a>"
      ]
    },
    {
      "cell_type": "markdown",
      "source": [
        "**Estrutura de Repetição for em Python**\n",
        "\n",
        "Uma estrutura de repetição em Python é um recurso para desenvolver tarefas repetitivas em um loop contínuo. O loop funciona até uma condição ser satisfeita.\n",
        "\n",
        "É importante configurar devidamente essa condição para não cair em erros fatais em um programa.\n",
        "\n",
        "O loop faz o que chamamos em programação de iteração, uma repetição que analisa alguma estrutura.\n",
        "\n",
        "**A Função range()**\n",
        "\n",
        "Explicação e uso básico\n"
      ],
      "metadata": {
        "id": "0KCgYycOFRXl"
      }
    },
    {
      "cell_type": "code",
      "execution_count": 1,
      "metadata": {
        "colab": {
          "base_uri": "https://localhost:8080/"
        },
        "id": "0eii5kkrFGga",
        "outputId": "c9a6464d-346c-4995-e351-3a3385095d86"
      },
      "outputs": [
        {
          "output_type": "stream",
          "name": "stdout",
          "text": [
            "0\n",
            "1\n",
            "2\n",
            "3\n",
            "4\n"
          ]
        }
      ],
      "source": [
        "for i in range(5):\n",
        "    print(i)\n"
      ]
    },
    {
      "cell_type": "markdown",
      "source": [
        "**Usando range com parâmetros de início, fim e passo**"
      ],
      "metadata": {
        "id": "b0qTQtUsGhDC"
      }
    },
    {
      "cell_type": "code",
      "source": [
        "for i in range(2, 10, 2):\n",
        "    print(i)\n"
      ],
      "metadata": {
        "colab": {
          "base_uri": "https://localhost:8080/"
        },
        "id": "t9lrMj7vGjnY",
        "outputId": "49624572-474e-443b-e60c-fd51cfa76145"
      },
      "execution_count": 2,
      "outputs": [
        {
          "output_type": "stream",
          "name": "stdout",
          "text": [
            "2\n",
            "4\n",
            "6\n",
            "8\n"
          ]
        }
      ]
    },
    {
      "cell_type": "markdown",
      "source": [
        "**Usando o for com Strings**\n",
        "\n",
        "Percorrendo caracteres de uma string"
      ],
      "metadata": {
        "id": "xpl8B9B4Hjsc"
      }
    },
    {
      "cell_type": "code",
      "source": [
        "palavra = \"Python\"\n",
        "for letra in palavra:\n",
        "    print(letra)"
      ],
      "metadata": {
        "colab": {
          "base_uri": "https://localhost:8080/"
        },
        "id": "8X5UFLH-HmkO",
        "outputId": "31df04da-d9e9-42d3-f5ba-45f7f3b7276d"
      },
      "execution_count": 3,
      "outputs": [
        {
          "output_type": "stream",
          "name": "stdout",
          "text": [
            "P\n",
            "y\n",
            "t\n",
            "h\n",
            "o\n",
            "n\n"
          ]
        }
      ]
    },
    {
      "cell_type": "markdown",
      "source": [
        "**Utilizando for para atribuir valores**\n",
        "\n",
        "Utilizando o for para repetir os valores para entrada de dados."
      ],
      "metadata": {
        "id": "-V1FZCBsI-wv"
      }
    },
    {
      "cell_type": "code",
      "source": [
        "soma=0\n",
        "\n",
        "for i in range(3):\n",
        "    num = float(input(\"Digite um numero: \"))\n",
        "\n",
        "    soma+=num\n",
        "print(f\"Soma = {soma}\")\n"
      ],
      "metadata": {
        "colab": {
          "base_uri": "https://localhost:8080/"
        },
        "id": "wEAPvhxQJLvg",
        "outputId": "8e5ee2e2-0be4-48a0-95ce-2e0f42ad9d38"
      },
      "execution_count": 4,
      "outputs": [
        {
          "output_type": "stream",
          "name": "stdout",
          "text": [
            "Digite um numero: 4\n",
            "Digite um numero: 4\n",
            "Digite um numero: 4\n",
            "Soma = 12.0\n"
          ]
        }
      ]
    },
    {
      "cell_type": "markdown",
      "source": [
        "**Lista de exercícos em For**\n",
        "\n",
        "\n",
        "**Imprimindo números de 1 a 10**\n",
        "* Escreva um programa que use um loop for para imprimir os números de 1 a 10.\n",
        "\n",
        "**Imprimindo números pares de 1 a 20**\n",
        "* Escreva um loop for que imprima apenas os números pares de 1 a 20.\n",
        "\n",
        "**Imprimindo números ímpares com range()**\n",
        "* Use a função range() e um loop for para imprimir os números ímpares entre 1 e 20.\n",
        "\n",
        "**Imprimindo números em ordem reversa**\n",
        "* Crie um loop for que imprima os números de 10 a 1 em ordem decrescente.\n",
        "\n",
        "**Imprimindo uma sequência numérica com passo personalizado**\n",
        "Use a função range() e um loop for para imprimir os números de 0 a 20 com um passo de 3.\n",
        "\n",
        "**Contando números negativos em uma lista**\n",
        "* Dada uma lista de números, conte quantos números são negativos e exiba o resultado.\n",
        "\n",
        "**Somando elementos**\n",
        "* Entre com 3 números, use um loop for para calcular e exibir a soma de todos os elementos\n",
        "\n",
        "**Imprimindo números divisíveis por 3**\n",
        "* Crie um loop for que percorra os números de 1 a 50 e imprima apenas aqueles que são divisíveis por 3.\n",
        "\n",
        "**Multiplicando elementos de uma lista**\n",
        "* Dada uma lista de números, crie um programa que multiplique todos os elementos da lista por um número fornecido pelo usuário.\n",
        "\n",
        "**Soma dos dígitos de um número**\n",
        "* Escreva um programa que some os dígitos de um número inteiro fornecido pelo usuário.\n",
        "\n",
        "**Verificando números primos**\n",
        "* Crie um programa que verifique quais números entre 1 e 20 são primos e os exiba.\n",
        "\n",
        "**Calculando a soma dos números divisíveis por 3 e 5**\n",
        "* Escreva um programa que some todos os números de 1 a 50 que são divisíveis por 3 ou por 5.\n",
        "\n",
        "**Encontrando o maior número em uma lista**\n",
        "* Dada uma lista de números, use um loop for para encontrar e exibir o maior número da lista."
      ],
      "metadata": {
        "id": "UyuShqA7H55r"
      }
    }
  ]
}