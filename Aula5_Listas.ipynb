{
  "nbformat": 4,
  "nbformat_minor": 0,
  "metadata": {
    "colab": {
      "provenance": [],
      "include_colab_link": true
    },
    "kernelspec": {
      "name": "python3",
      "display_name": "Python 3"
    },
    "language_info": {
      "name": "python"
    }
  },
  "cells": [
    {
      "cell_type": "markdown",
      "metadata": {
        "id": "view-in-github",
        "colab_type": "text"
      },
      "source": [
        "<a href=\"https://colab.research.google.com/github/WellingtonRoque/lpc/blob/main/Aula5_Listas.ipynb\" target=\"_parent\"><img src=\"https://colab.research.google.com/assets/colab-badge.svg\" alt=\"Open In Colab\"/></a>"
      ]
    },
    {
      "cell_type": "markdown",
      "source": [
        "**O que são Listas**\n",
        "\n",
        "* Definição: Uma lista é uma coleção ordenada de elementos mutáveis em Python.\n",
        "\n",
        "\n",
        "Sintaxe básica: lista = [elemento1, elemento2, ..., elementoN].\n",
        "\n",
        "**Criando Listas**\n",
        "\n",
        "Para criar listas no Python é necessário\n",
        "\n",
        "*\tUtilizar o símbolo [ ] (colchetes) para as listas;\n",
        "*\tArmazenar a lista em uma VARIÁVEL;\n",
        "*\tSepara itens da lista pela vírgula;\n"
      ],
      "metadata": {
        "id": "ngwAYKHarEDh"
      }
    },
    {
      "cell_type": "code",
      "source": [
        "# Exemplos\n",
        "lista_vazia = []\n",
        "numeros = [1, 2, 3, 4, 5]\n",
        "nomes = [\"Alice\", \"Bob\", \"Charlie\"]\n",
        "misturado = [1, \"dois\", 3.0, True]\n",
        "print(lista_vazia)\n",
        "print(numeros)\n",
        "print(nomes)\n",
        "print(misturado)"
      ],
      "metadata": {
        "colab": {
          "base_uri": "https://localhost:8080/"
        },
        "id": "_TVxqShprStr",
        "outputId": "79e5acad-bd80-4f2d-bdd4-227c945ef71c"
      },
      "execution_count": null,
      "outputs": [
        {
          "output_type": "stream",
          "name": "stdout",
          "text": [
            "[]\n",
            "[1, 2, 3, 4, 5]\n",
            "['Alice', 'Bob', 'Charlie']\n",
            "[1, 'dois', 3.0, True]\n"
          ]
        }
      ]
    },
    {
      "cell_type": "markdown",
      "source": [],
      "metadata": {
        "id": "0D2P9sIWrBcd"
      }
    },
    {
      "cell_type": "markdown",
      "source": [
        "**Adicionar um elemento a uma lista**\n",
        "\n",
        "Para adicionar um elemento a uma lista, podemos utilizar o **método append():**"
      ],
      "metadata": {
        "id": "FXyBDqlYYqD-"
      }
    },
    {
      "cell_type": "code",
      "source": [
        "minha_lista = [1, 2, 3]\n",
        "minha_lista.append(4)\n",
        "\n",
        "print(minha_lista)\n",
        "# output: [1, 2, 3, 4]"
      ],
      "metadata": {
        "id": "LRTWvRBiYs0n",
        "outputId": "70a32b1d-b386-4b14-d8be-53542629ebd6",
        "colab": {
          "base_uri": "https://localhost:8080/"
        }
      },
      "execution_count": 1,
      "outputs": [
        {
          "output_type": "stream",
          "name": "stdout",
          "text": [
            "[1, 2, 3, 4]\n"
          ]
        }
      ]
    },
    {
      "cell_type": "markdown",
      "source": [
        "**Acessar um elemento em uma lista**\n",
        "\n",
        "Para acessar um elemento, utilizamos o índice do elemento e o passamos para a lista através de colchetes ( [ ] ).\n",
        "\n",
        "Cada elemento dentro de uma lista possui um índice numérico partindo de zero.\n",
        "\n",
        "Assim, podemos acessar o primeiro elemento de uma lista com a sintaxe minha_lista[0], o segundo com minha_lista[1] e assim por diante.\n"
      ],
      "metadata": {
        "id": "ExqtbK_KYyhG"
      }
    },
    {
      "cell_type": "code",
      "source": [
        "minha_lista = [\"ola\", \"mundo\", \"listas\", \"python\"]\n",
        "\n",
        "print(minha_lista[0])  # Primeiro elemento\n",
        "# output: olá\n",
        "\n",
        "print(minha_lista[2])  # Terceiro elemento\n",
        "# output: python"
      ],
      "metadata": {
        "id": "L7AxqGVnY6Qe",
        "outputId": "bd6fb4a6-f4f9-4b69-b151-045773864d72",
        "colab": {
          "base_uri": "https://localhost:8080/"
        }
      },
      "execution_count": 2,
      "outputs": [
        {
          "output_type": "stream",
          "name": "stdout",
          "text": [
            "ola\n",
            "listas\n"
          ]
        }
      ]
    },
    {
      "cell_type": "markdown",
      "source": [
        "**Modificar um elemento em uma lista**\n",
        "\n",
        "Para modificar um elemento de uma lista, usamos a mesma sintaxe usada para acessar um elemento, e o atribuímos a algum novo valor.\n",
        "\n",
        "Por exemplo, minha_lista[1] = \"Novo Valor\" atualizará o segundo valor da lista minha_lista para \"Novo Valor\"."
      ],
      "metadata": {
        "id": "s_8Pt8uJZFLG"
      }
    },
    {
      "cell_type": "code",
      "source": [
        "minha_lista = [\"olá\", \"mundo\", \"listas\", \"python\"]\n",
        "\n",
        "minha_lista[1] = \"Novo Valor\"\n",
        "print(minha_lista)\n",
        "\n",
        "# output: ['olá', 'Novo Valor', 'listas', 'python']"
      ],
      "metadata": {
        "id": "_wR6J1USZMF9",
        "outputId": "307d7ea9-5caa-4d44-b2d7-f8b8b8eb6884",
        "colab": {
          "base_uri": "https://localhost:8080/"
        }
      },
      "execution_count": 6,
      "outputs": [
        {
          "output_type": "stream",
          "name": "stdout",
          "text": [
            "['olá', 'Novo Valor', 'listas', 'python']\n"
          ]
        }
      ]
    },
    {
      "cell_type": "markdown",
      "source": [
        "**Remover um elemento de uma lista**\n",
        "\n",
        "Para remover um elemento de uma lista, usamos a palavra-chave del junto do índice do elemento que queremos remover:"
      ],
      "metadata": {
        "id": "ZrVHNzdZZVGd"
      }
    },
    {
      "cell_type": "code",
      "source": [
        "minha_lista = [\"olá\", \"mundo\", \"listas\", \"python\"]\n",
        "\n",
        "del minha_lista[1]\n",
        "print(minha_lista)\n",
        "\n",
        "# output: ['olá', 'listas', 'python']"
      ],
      "metadata": {
        "id": "Voc3HVugZZI3"
      },
      "execution_count": null,
      "outputs": []
    },
    {
      "cell_type": "markdown",
      "source": [
        "**Buscar um elemento em uma lista**\n",
        "\n",
        "Podemos verificar se um elemento qualquer existe dentro de uma lista de Python usando o operador in.\n",
        "\n",
        "Por exemplo, a expressão 2 in [1, 2, 3] resulta em True porque o valor 2 está na lista.\n",
        "\n",
        "Veja outros exemplos de uso:"
      ],
      "metadata": {
        "id": "DqwdiuBBaGPj"
      }
    },
    {
      "cell_type": "code",
      "source": [
        "minha_lista = [1, 2, 3, 4, 5]\n",
        "\n",
        "print(1 in minha_lista)\n",
        "# output: True\n",
        "\n",
        "print(10 in minha_lista)\n",
        "# output: False\n",
        "\n",
        "print('1' in minha_lista)\n",
        "# output: False"
      ],
      "metadata": {
        "id": "6NHuz-zgaPhq"
      },
      "execution_count": null,
      "outputs": []
    },
    {
      "cell_type": "markdown",
      "source": [
        "**Juntar duas listas em Python**\n",
        "\n",
        "Podemos juntar duas listas em Python utilizando o operador de soma ( + ). Essa operação realiza a concatenação das duas listas, isto é, coloca todos os elementos da segunda lista ao final da primeira:"
      ],
      "metadata": {
        "id": "Q2M2jx83aUf7"
      }
    },
    {
      "cell_type": "code",
      "source": [
        "l1 = [1, 2, 3]\n",
        "l2 = [4, 5, 6]\n",
        "\n",
        "minha_lista = l1 + l2\n",
        "print(minha_lista)\n",
        "# output: [1, 2, 3, 4, 5, 6]"
      ],
      "metadata": {
        "id": "oBcfsa-UaYZJ"
      },
      "execution_count": null,
      "outputs": []
    },
    {
      "cell_type": "markdown",
      "source": [
        "**Os principais métodos de lista em Python**\n",
        "\n",
        "\n",
        "Como vimos anteriormente, as listas em Python possuem métodos: funções que estão atreladas ao tipo de dado lista. Vamos agora passar pelos principais métodos de listas em Python, explicando como e para que usá-los.\n",
        "\n",
        "**Adicionar elementos com append() e extend()**\n",
        "\n",
        "Já aprendemos sobre o método de listas append(). Ele é usado para adicionar um valor como um elemento ao final de uma lista qualquer:"
      ],
      "metadata": {
        "id": "9n64BtOmaetS"
      }
    },
    {
      "cell_type": "code",
      "source": [
        "minha_lista = [1, 2, 3]\n",
        "minha_lista.append(4)\n",
        "\n",
        "print(minha_lista)\n",
        "\n",
        "# output: [1, 2, 3, 4]"
      ],
      "metadata": {
        "id": "nvhCO_tyakJJ"
      },
      "execution_count": null,
      "outputs": []
    },
    {
      "cell_type": "markdown",
      "source": [
        "Podemos também usar o método de lista extend() para adicionar valores novos a uma lista. Este método pega todos os elementos de uma outra sequência e os adiciona para dentro da lista, um a um:"
      ],
      "metadata": {
        "id": "TnTY-dmnavBS"
      }
    },
    {
      "cell_type": "code",
      "source": [
        "minha_lista = [1, 2, 3]\n",
        "minha_lista.extend([4, 5])\n",
        "\n",
        "print(minha_lista)\n",
        "\n",
        "# output: [1, 2, 3, 4, 5]"
      ],
      "metadata": {
        "id": "WcWY8Byqaw5w"
      },
      "execution_count": null,
      "outputs": []
    },
    {
      "cell_type": "markdown",
      "source": [
        "**Inserir elementos em uma posição específica com insert()**\n",
        "\n",
        "\n",
        "O método insert() funciona de forma similar ao append(), porém permite escolher a posição em que inserir o valor, ao invés de automaticamente adicioná-lo ao final da lista.\n",
        "\n",
        "O elemento na posição escolhida acaba “empurrando” todo o resto da lista para a direita."
      ],
      "metadata": {
        "id": "DWBvwLiGa2tw"
      }
    },
    {
      "cell_type": "code",
      "source": [
        "minha_lista = [\"curso\", \"de\", \"programação\"]\n",
        "minha_lista.insert(1, \"Python\")\n",
        "\n",
        "print(minha_lista)\n",
        "\n",
        "# output: ['curso', 'de', 'programação', 'Python']"
      ],
      "metadata": {
        "id": "Rjbe_keoa8qI"
      },
      "execution_count": null,
      "outputs": []
    },
    {
      "cell_type": "markdown",
      "source": [],
      "metadata": {
        "id": "_5D3-5iKZy8E"
      }
    },
    {
      "cell_type": "markdown",
      "source": [
        "**Remover elementos com pop() e remove()**\n",
        "\n",
        "Além da palavra-chave del, podemos usar os métodos pop() e remove() para remover elementos de uma lista.\n",
        "\n",
        "O método pop() retira o último elemento da lista e o retorna, funcionando quase como um “append() ao contrário”:"
      ],
      "metadata": {
        "id": "S-YFYdCZbIeh"
      }
    },
    {
      "cell_type": "code",
      "source": [
        "minha_lista = [\"curso\", \"de\", \"programação\"]\n",
        "ultimo_elemento = minha_lista.pop()\n",
        "\n",
        "print(minha_lista)\n",
        "# output: ['curso', 'de']\n",
        "\n",
        "print(ultimo_elemento)\n",
        "# output: programação?"
      ],
      "metadata": {
        "id": "K1YLNEFhbQwA",
        "outputId": "27cb99d5-5161-4695-db14-0d83447a27b3",
        "colab": {
          "base_uri": "https://localhost:8080/"
        }
      },
      "execution_count": 7,
      "outputs": [
        {
          "output_type": "stream",
          "name": "stdout",
          "text": [
            "['curso', 'de']\n",
            "programação\n"
          ]
        }
      ]
    },
    {
      "cell_type": "markdown",
      "source": [
        "Já o método remove() retira um item de dentro da lista, o qual devemos passar como argumento:"
      ],
      "metadata": {
        "id": "iJuhOawmbfHW"
      }
    },
    {
      "cell_type": "code",
      "source": [
        "minha_lista = [\"oi\", \"tudo\", \"bem?\"]\n",
        "minha_lista.remove(\"tudo\")\n",
        "\n",
        "print(minha_lista)\n",
        "# output: ['oi', 'bem?']"
      ],
      "metadata": {
        "id": "A5RW5Gksbibe"
      },
      "execution_count": null,
      "outputs": []
    },
    {
      "cell_type": "markdown",
      "source": [
        "**Limpar uma lista com clear()**\n",
        "\n",
        "Se quisermos remover todos os elementos de uma lista, podemos usar o método clear(). Ele funciona como uma maneira de “resetar” a lista para o estado vazio:"
      ],
      "metadata": {
        "id": "whbe6MsrbpC2"
      }
    },
    {
      "cell_type": "code",
      "source": [
        "minha_lista = [\"oi\", \"tudo\", \"bem?\"]\n",
        "minha_lista.clear()\n",
        "\n",
        "print(minha_lista)\n",
        "# output: []"
      ],
      "metadata": {
        "id": "_B56J2wWbvfP"
      },
      "execution_count": null,
      "outputs": []
    },
    {
      "cell_type": "markdown",
      "source": [
        "**Encontrar a posição de um elemento com index()**\n",
        "\n",
        "Podemos usar o método index() para encontrar o índice de um elemento na lista:"
      ],
      "metadata": {
        "id": "oIa94s2_bz5k"
      }
    },
    {
      "cell_type": "code",
      "source": [
        "minha_lista = [\"oi\", \"tudo\", \"bem?\"]\n",
        "indice = minha_lista.index(\"oi\")\n",
        "\n",
        "print(indice)\n",
        "# output: 0"
      ],
      "metadata": {
        "id": "jDXuwZIeb6CN"
      },
      "execution_count": null,
      "outputs": []
    },
    {
      "cell_type": "markdown",
      "source": [
        "**Contar ocorrências de um elemento com count()**\n",
        "\n",
        "O método count() serve para contar o número de vezes que um determinado elemento aparece na lista.\n",
        "Isto é útil se quisermos calcular a frequência de um elemento na lista, por exemplo:\n",
        "\n"
      ],
      "metadata": {
        "id": "EsfRIpo1b_fV"
      }
    },
    {
      "cell_type": "code",
      "source": [
        "minha_lista = [0, 1, 1, 0, 1, 1, 1, 0, 0, 1]\n",
        "numeros_zero = minha_lista.count(0)\n",
        "\n",
        "print(numeros_zero)\n",
        "# output: 4"
      ],
      "metadata": {
        "id": "qYtiPo5XcDvP"
      },
      "execution_count": null,
      "outputs": []
    },
    {
      "cell_type": "markdown",
      "source": [
        "**Ordenar ou inverter uma lista com sort() ou reverse()**\n",
        "\n",
        "Podemos mudar o ordenamento dos elementos de uma lista com os métodos lista sort() e reverse(). O método sort() ordena os elementos do maior para o menor:\n",
        "\n",
        "\n"
      ],
      "metadata": {
        "id": "dUC4kyTRcGRc"
      }
    },
    {
      "cell_type": "code",
      "source": [
        "valores = [10, 3, 9, 11, 12, 5, -1]\n",
        "valores.sort()\n",
        "\n",
        "print(valores)\n",
        "# output: [-1, 3, 5, 9, 10, 11, 12]"
      ],
      "metadata": {
        "id": "j_notXmKcNN-"
      },
      "execution_count": null,
      "outputs": []
    },
    {
      "cell_type": "markdown",
      "source": [
        "Já o método reverse() simplesmente inverte o ordenamento da lista. O primeiro elemento se torna o último, e assim por diante:"
      ],
      "metadata": {
        "id": "M5ZU_X5dcRSL"
      }
    },
    {
      "cell_type": "code",
      "source": [
        "valores = [10, 3, 9, 11, 12, 5, -1]\n",
        "valores.reverse()\n",
        "\n",
        "print(valores)\n",
        "# output: [-1, 5, 12, 11, 9, 3, 10]"
      ],
      "metadata": {
        "id": "y399p9Z5cUNl",
        "outputId": "d87363b2-d5b5-4909-c971-4d0f7c6a119f",
        "colab": {
          "base_uri": "https://localhost:8080/"
        }
      },
      "execution_count": 8,
      "outputs": [
        {
          "output_type": "stream",
          "name": "stdout",
          "text": [
            "[-1, 5, 12, 11, 9, 3, 10]\n"
          ]
        }
      ]
    },
    {
      "cell_type": "markdown",
      "source": [
        "**Usando for com Listas**\n",
        "\n",
        "Para percorrer os elementos de uma lista em Python usando o loop for, você pode iterar sobre cada item diretamente.\n",
        "\n",
        "O for vai passar por cada elemento da lista, atribuindo o valor do elemento atual a uma variável.\n"
      ],
      "metadata": {
        "id": "W9PUfZNJkfre"
      }
    },
    {
      "cell_type": "code",
      "source": [
        "numeros = [1, 2, 3, 4, 5]\n",
        "\n",
        "for numero in numeros:\n",
        "    print(numero)\n"
      ],
      "metadata": {
        "id": "15gyEKwnkqqh",
        "outputId": "2341e7c4-7774-4fd7-ab40-b37078ac67d6",
        "colab": {
          "base_uri": "https://localhost:8080/"
        }
      },
      "execution_count": 9,
      "outputs": [
        {
          "output_type": "stream",
          "name": "stdout",
          "text": [
            "1\n",
            "2\n",
            "3\n",
            "4\n",
            "5\n"
          ]
        }
      ]
    },
    {
      "cell_type": "markdown",
      "source": [
        "**Usando range() para criar uma lista**\n",
        "\n",
        "O conceito de range() em Python é uma maneira de gerar uma sequência de números. Quando usado em conjunto com a função list(), o range() cria uma lista contendo uma sequência de números especificada.\n",
        "\n",
        "O range() recebe até três parâmetros: início, fim (não incluído) e passo."
      ],
      "metadata": {
        "id": "agdGIa7flL6P"
      }
    },
    {
      "cell_type": "code",
      "source": [
        "lista = list(range(1, 10, 2))\n",
        "print(lista)\n"
      ],
      "metadata": {
        "id": "F1h8YyCHlUTR"
      },
      "execution_count": null,
      "outputs": []
    },
    {
      "cell_type": "markdown",
      "source": [
        "**Compreensão de Listas em Python**\n",
        "\n",
        "O utilziar o conceito de compreensão para criar listas de forma eficiente e concisa.\n",
        "\n",
        "1. Introdução à Compreensão de Listas\n",
        "\n",
        "Explicar o que é compreensão de listas: uma forma concisa de criar listas.\n",
        "Estrutura básica:\n"
      ],
      "metadata": {
        "id": "41tpqS4ilqWu"
      }
    },
    {
      "cell_type": "code",
      "source": [
        "# nova_lista = [expressão for item in iterável if condição]\n"
      ],
      "metadata": {
        "id": "2bIwcKr2mAF-"
      },
      "execution_count": null,
      "outputs": []
    },
    {
      "cell_type": "markdown",
      "source": [
        "2. Exemplo Básico\n",
        "\n",
        "Criar uma lista de quadrados de números de 1 a 5:"
      ],
      "metadata": {
        "id": "qoeXSIYEmCzG"
      }
    },
    {
      "cell_type": "code",
      "source": [
        "quadrados = [x**2 for x in range(1, 6)]\n",
        "print(quadrados)  # Saída: [1, 4, 9, 16, 25]\n"
      ],
      "metadata": {
        "id": "rm8IRBf9mE2W"
      },
      "execution_count": null,
      "outputs": []
    },
    {
      "cell_type": "markdown",
      "source": [
        "**Filtrando Elementos**\n",
        "\n",
        "Criar uma lista com números pares de uma lista original:\n"
      ],
      "metadata": {
        "id": "6BMvlDzvmJBf"
      }
    },
    {
      "cell_type": "code",
      "source": [
        "numeros = [1, 2, 3, 4, 5, 6, 7, 8, 9, 10]\n",
        "\n",
        "pares = [x for x in numeros if x % 2 == 0]\n",
        "print(pares)  # Saída: [2, 4, 6, 8, 10]\n"
      ],
      "metadata": {
        "id": "gqDuNamImYe4",
        "outputId": "d6e075bc-cff7-4625-d3e3-93a441f16e59",
        "colab": {
          "base_uri": "https://localhost:8080/"
        }
      },
      "execution_count": 10,
      "outputs": [
        {
          "output_type": "stream",
          "name": "stdout",
          "text": [
            "[2, 4, 6, 8, 10]\n"
          ]
        }
      ]
    },
    {
      "cell_type": "markdown",
      "source": [
        "**Lista de Exercicios**\n",
        "\n",
        "1. Crie uma lista com cinco números e imprima cada número.\n",
        "\n",
        "2. Adicione um número ao final da lista usando append().\n",
        "\n",
        "3. Remova o último número da lista com pop().\n",
        "\n",
        "4. Acesse o primeiro e o último elemento da lista.\n",
        "\n",
        "5. Conte quantos elementos estão na lista com len().\n",
        "\n",
        "6. Inverta a lista e imprima o resultado.\n",
        "\n",
        "7. Crie uma nova lista com os quadrados dos números de 1 a 10.\n",
        "\n",
        "8. Filtre e crie uma lista com apenas os números pares de uma lista existente.\n",
        "\n",
        "9. Use compreensão de listas para criar uma lista de letras de uma string.\n",
        "\n",
        "10. Crie uma lista de nomes e ordene-os em ordem alfabética.\n",
        "\n",
        "11. Verifique se um número específico está na lista.\n",
        "\n",
        "12. Some todos os elementos de uma lista de números.\n",
        "\n",
        "13. Encontre o maior e o menor número em uma lista.\n",
        "\n",
        "14. Crie uma lista de listas (matriz) e acesse um elemento específico.\n",
        "\n",
        "15. Fatie a lista para obter os três primeiros elementos.\n",
        "\n",
        "16. Crie uma lista com elementos repetidos e remova as duplicatas.\n",
        "\n",
        "17. Converta uma string em uma lista de palavras.\n",
        "\n",
        "18. Crie uma lista de 10 números aleatórios e imprima a lista.\n",
        "\n",
        "19. Crie uma nova lista a partir de uma lista existente, onde cada elemento é multiplicado por 2.\n",
        "\n",
        "20. Use um loop para imprimir os elementos de uma lista em ordem inversa.\n",
        "\n",
        "\n"
      ],
      "metadata": {
        "id": "ZwxTF61Lmnwy"
      }
    }
  ]
}